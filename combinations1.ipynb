{
 "cells": [
  {
   "cell_type": "code",
   "execution_count": 1,
   "metadata": {},
   "outputs": [],
   "source": [
    "from qiskit import *\n",
    "import math\n",
    "import numpy as np\n",
    "import random\n",
    "\n",
    "import itertools"
   ]
  },
  {
   "cell_type": "code",
   "execution_count": 2,
   "metadata": {},
   "outputs": [],
   "source": [
    "sim = Aer.get_backend('qasm_simulator')"
   ]
  },
  {
   "cell_type": "code",
   "execution_count": 3,
   "metadata": {},
   "outputs": [],
   "source": [
    "class_comb = ['class1 and class 2', 'class2 and class 1', 'class2', 'class1']\n",
    "lst1 = ['one','two','three','four']\n",
    "lst2 = ['five','six','seven','eight']"
   ]
  },
  {
   "cell_type": "code",
   "execution_count": 4,
   "metadata": {},
   "outputs": [],
   "source": [
    "def which_class():\n",
    "    circ = QuantumCircuit(2,2)\n",
    "    circ.h(0)\n",
    "    circ.h(1)\n",
    "    circ.measure([0,1],[0,1])\n",
    "    res = execute(circ,sim).result().get_counts(circ)\n",
    "    '''a = int(res['00'])\n",
    "    b = int(res['11'])\n",
    "    c = int(res['01'])\n",
    "    d = int(res['10'])\n",
    "    lst = [a,b,c,d]\n",
    "    print(max(lst))\n",
    "    print(res)'''\n",
    "    max_res = (max(res, key=res.get))\n",
    "    #print(int(max_res,2))\n",
    "    return class_comb[int(max_res,2)-1]"
   ]
  },
  {
   "cell_type": "code",
   "execution_count": 5,
   "metadata": {},
   "outputs": [],
   "source": [
    "def QC(n):\n",
    "    qr = QuantumRegister(n)\n",
    "    cr = ClassicalRegister(n)\n",
    "    circ = QuantumCircuit(qr,cr)\n",
    "    circ.h(qr)\n",
    "    circ.measure(qr,cr)\n",
    "    result = execute(circ,sim).result().get_counts(circ)\n",
    "    return result      "
   ]
  },
  {
   "cell_type": "code",
   "execution_count": 6,
   "metadata": {},
   "outputs": [],
   "source": [
    "def comb_dec(class_no):\n",
    "    num_choice = len(class_no)\n",
    "    if math.log(num_choice,2)%int(math.log(num_choice,2))==0:\n",
    "        n = int(math.log(num_choice,2))\n",
    "        result = QC(n)\n",
    "        max_res = max(result, key=result.get)\n",
    "    else:\n",
    "        n = int(math.log(num_choice,2))+1\n",
    "        result = QC(n)\n",
    "        max_res = max(result, key=result.get)\n",
    "    while (int(max_res,2) > num_choice-1):\n",
    "        result.pop(str(max_res))\n",
    "        max_res = max(result, key=result.get)\n",
    "    selections = []\n",
    "    random.shuffle(class_no)\n",
    "    for i in range(int(max_res,2)+1):\n",
    "        selections.append(class_no[i])\n",
    "    return selections\n",
    "\n",
    "def make_comb(class_comb): #using lists from which combinations will come from here -> 2\n",
    "    n = 2 #number of lists\n",
    "    combination_dict = {'0': comb_dec(lst1), '1': comb_dec(lst2)}\n",
    "    max_res = '00'\n",
    "    final_comb = []\n",
    "    while len(final_comb) == 0:\n",
    "        while max_res == '00': #so that something gets in the combination\n",
    "            result = QC(n)\n",
    "            max_res = max(result, key=result.get)\n",
    "        for w in range(n):\n",
    "            if max_res[w] == '1':\n",
    "                final_comb.append(combination_dict[str(w)])\n",
    "        final_comb = list(itertools.chain.from_iterable(final_comb))\n",
    "        \n",
    "        \n",
    "    return final_comb"
   ]
  },
  {
   "cell_type": "code",
   "execution_count": 7,
   "metadata": {},
   "outputs": [
    {
     "name": "stdout",
     "output_type": "stream",
     "text": [
      "\n",
      "The Class is class1 and class 2 with the following combination:\n",
      "['four', 'two', 'one', 'three']\n"
     ]
    }
   ],
   "source": [
    "comb = which_class()\n",
    "print(f\"\"\"\n",
    "The Class is {comb} with the following combination:\n",
    "{make_comb(class_comb)}\"\"\")"
   ]
  },
  {
   "cell_type": "code",
   "execution_count": null,
   "metadata": {},
   "outputs": [],
   "source": []
  },
  {
   "cell_type": "code",
   "execution_count": null,
   "metadata": {},
   "outputs": [],
   "source": []
  }
 ],
 "metadata": {
  "kernelspec": {
   "display_name": "Python 3",
   "language": "python",
   "name": "python3"
  },
  "language_info": {
   "codemirror_mode": {
    "name": "ipython",
    "version": 3
   },
   "file_extension": ".py",
   "mimetype": "text/x-python",
   "name": "python",
   "nbconvert_exporter": "python",
   "pygments_lexer": "ipython3",
   "version": "3.7.6"
  }
 },
 "nbformat": 4,
 "nbformat_minor": 4
}
